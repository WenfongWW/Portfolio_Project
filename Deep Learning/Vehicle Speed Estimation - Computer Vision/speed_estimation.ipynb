{
 "cells": [
  {
   "cell_type": "code",
   "execution_count": 1,
   "metadata": {},
   "outputs": [
    {
     "name": "stdout",
     "output_type": "stream",
     "text": [
      "Collecting supervision[assets]\n",
      "  Obtaining dependency information for supervision[assets] from https://files.pythonhosted.org/packages/50/1a/971a415d67011854c2c59716c49b3de151d54b422c6dd0a6489e0152b42e/supervision-0.20.0-py3-none-any.whl.metadata\n",
      "  Downloading supervision-0.20.0-py3-none-any.whl.metadata (13 kB)\n",
      "Requirement already satisfied: defusedxml<0.8.0,>=0.7.1 in c:\\users\\wen\\anaconda3\\lib\\site-packages (from supervision[assets]) (0.7.1)\n",
      "Requirement already satisfied: matplotlib>=3.6.0 in c:\\users\\wen\\anaconda3\\lib\\site-packages (from supervision[assets]) (3.7.2)\n",
      "Requirement already satisfied: numpy>=1.21.2 in c:\\users\\wen\\anaconda3\\lib\\site-packages (from supervision[assets]) (1.24.3)\n",
      "Collecting opencv-python-headless>=4.5.5.64 (from supervision[assets])\n",
      "  Obtaining dependency information for opencv-python-headless>=4.5.5.64 from https://files.pythonhosted.org/packages/20/44/458a0a135866f5e08266566b32ad9a182a7a059a894effe6c41a9c841ff1/opencv_python_headless-4.9.0.80-cp37-abi3-win_amd64.whl.metadata\n",
      "  Downloading opencv_python_headless-4.9.0.80-cp37-abi3-win_amd64.whl.metadata (20 kB)\n",
      "Requirement already satisfied: pillow>=9.4 in c:\\users\\wen\\anaconda3\\lib\\site-packages (from supervision[assets]) (9.4.0)\n",
      "Requirement already satisfied: pyyaml>=5.3 in c:\\users\\wen\\anaconda3\\lib\\site-packages (from supervision[assets]) (6.0.1)\n",
      "Requirement already satisfied: requests<=2.31.0,>=2.26.0 in c:\\users\\wen\\anaconda3\\lib\\site-packages (from supervision[assets]) (2.31.0)\n",
      "Requirement already satisfied: scipy<2.0.0,>=1.10.0 in c:\\users\\wen\\anaconda3\\lib\\site-packages (from supervision[assets]) (1.11.1)\n",
      "Requirement already satisfied: tqdm<=4.66.2,>=4.62.3 in c:\\users\\wen\\anaconda3\\lib\\site-packages (from supervision[assets]) (4.65.0)\n",
      "Requirement already satisfied: contourpy>=1.0.1 in c:\\users\\wen\\anaconda3\\lib\\site-packages (from matplotlib>=3.6.0->supervision[assets]) (1.0.5)\n",
      "Requirement already satisfied: cycler>=0.10 in c:\\users\\wen\\anaconda3\\lib\\site-packages (from matplotlib>=3.6.0->supervision[assets]) (0.11.0)\n",
      "Requirement already satisfied: fonttools>=4.22.0 in c:\\users\\wen\\anaconda3\\lib\\site-packages (from matplotlib>=3.6.0->supervision[assets]) (4.25.0)\n",
      "Requirement already satisfied: kiwisolver>=1.0.1 in c:\\users\\wen\\anaconda3\\lib\\site-packages (from matplotlib>=3.6.0->supervision[assets]) (1.4.4)\n",
      "Requirement already satisfied: packaging>=20.0 in c:\\users\\wen\\anaconda3\\lib\\site-packages (from matplotlib>=3.6.0->supervision[assets]) (23.1)\n",
      "Requirement already satisfied: pyparsing<3.1,>=2.3.1 in c:\\users\\wen\\anaconda3\\lib\\site-packages (from matplotlib>=3.6.0->supervision[assets]) (2.4.2)\n",
      "Requirement already satisfied: python-dateutil>=2.7 in c:\\users\\wen\\anaconda3\\lib\\site-packages (from matplotlib>=3.6.0->supervision[assets]) (2.8.2)\n",
      "Requirement already satisfied: charset-normalizer<4,>=2 in c:\\users\\wen\\anaconda3\\lib\\site-packages (from requests<=2.31.0,>=2.26.0->supervision[assets]) (2.0.4)\n",
      "Requirement already satisfied: idna<4,>=2.5 in c:\\users\\wen\\anaconda3\\lib\\site-packages (from requests<=2.31.0,>=2.26.0->supervision[assets]) (3.4)\n",
      "Requirement already satisfied: urllib3<3,>=1.21.1 in c:\\users\\wen\\anaconda3\\lib\\site-packages (from requests<=2.31.0,>=2.26.0->supervision[assets]) (1.26.16)\n",
      "Requirement already satisfied: certifi>=2017.4.17 in c:\\users\\wen\\anaconda3\\lib\\site-packages (from requests<=2.31.0,>=2.26.0->supervision[assets]) (2024.2.2)\n",
      "Requirement already satisfied: colorama in c:\\users\\wen\\anaconda3\\lib\\site-packages (from tqdm<=4.66.2,>=4.62.3->supervision[assets]) (0.4.6)\n",
      "Requirement already satisfied: six>=1.5 in c:\\users\\wen\\anaconda3\\lib\\site-packages (from python-dateutil>=2.7->matplotlib>=3.6.0->supervision[assets]) (1.16.0)\n",
      "Downloading opencv_python_headless-4.9.0.80-cp37-abi3-win_amd64.whl (38.5 MB)\n",
      "   ---------------------------------------- 0.0/38.5 MB ? eta -:--:--\n",
      "   ---------------------------------------- 0.1/38.5 MB 2.0 MB/s eta 0:00:20\n",
      "    --------------------------------------- 0.5/38.5 MB 5.3 MB/s eta 0:00:08\n",
      "   - -------------------------------------- 1.2/38.5 MB 8.5 MB/s eta 0:00:05\n",
      "   - -------------------------------------- 1.6/38.5 MB 8.6 MB/s eta 0:00:05\n",
      "   -- ------------------------------------- 2.4/38.5 MB 10.3 MB/s eta 0:00:04\n",
      "   --- ------------------------------------ 3.5/38.5 MB 12.4 MB/s eta 0:00:03\n",
      "   ---- ----------------------------------- 4.6/38.5 MB 14.0 MB/s eta 0:00:03\n",
      "   ----- ---------------------------------- 5.7/38.5 MB 15.2 MB/s eta 0:00:03\n",
      "   ------ --------------------------------- 6.6/38.5 MB 15.7 MB/s eta 0:00:03\n",
      "   -------- ------------------------------- 7.8/38.5 MB 16.5 MB/s eta 0:00:02\n",
      "   --------- ------------------------------ 8.9/38.5 MB 17.2 MB/s eta 0:00:02\n",
      "   ---------- ----------------------------- 10.0/38.5 MB 17.8 MB/s eta 0:00:02\n",
      "   ----------- ---------------------------- 10.9/38.5 MB 20.5 MB/s eta 0:00:02\n",
      "   ------------ --------------------------- 11.9/38.5 MB 22.6 MB/s eta 0:00:02\n",
      "   ------------- -------------------------- 12.9/38.5 MB 22.5 MB/s eta 0:00:02\n",
      "   -------------- ------------------------- 13.9/38.5 MB 22.6 MB/s eta 0:00:02\n",
      "   --------------- ------------------------ 14.6/38.5 MB 21.1 MB/s eta 0:00:02\n",
      "   ---------------- ----------------------- 15.5/38.5 MB 21.1 MB/s eta 0:00:02\n",
      "   ----------------- ---------------------- 16.4/38.5 MB 20.5 MB/s eta 0:00:02\n",
      "   ----------------- ---------------------- 17.1/38.5 MB 20.5 MB/s eta 0:00:02\n",
      "   ------------------ --------------------- 18.0/38.5 MB 19.8 MB/s eta 0:00:02\n",
      "   ------------------- -------------------- 18.9/38.5 MB 18.7 MB/s eta 0:00:02\n",
      "   -------------------- ------------------- 19.8/38.5 MB 19.2 MB/s eta 0:00:01\n",
      "   --------------------- ------------------ 20.4/38.5 MB 18.7 MB/s eta 0:00:01\n",
      "   ---------------------- ----------------- 21.5/38.5 MB 18.2 MB/s eta 0:00:01\n",
      "   ----------------------- ---------------- 22.3/38.5 MB 18.2 MB/s eta 0:00:01\n",
      "   ----------------------- ---------------- 23.0/38.5 MB 17.7 MB/s eta 0:00:01\n",
      "   ------------------------ --------------- 23.9/38.5 MB 17.7 MB/s eta 0:00:01\n",
      "   ------------------------- -------------- 24.8/38.5 MB 17.7 MB/s eta 0:00:01\n",
      "   -------------------------- ------------- 25.5/38.5 MB 17.7 MB/s eta 0:00:01\n",
      "   --------------------------- ------------ 26.4/38.5 MB 17.7 MB/s eta 0:00:01\n",
      "   ---------------------------- ----------- 27.3/38.5 MB 18.2 MB/s eta 0:00:01\n",
      "   ----------------------------- ---------- 28.1/38.5 MB 18.2 MB/s eta 0:00:01\n",
      "   ------------------------------ --------- 29.0/38.5 MB 17.7 MB/s eta 0:00:01\n",
      "   ------------------------------- -------- 29.9/38.5 MB 18.2 MB/s eta 0:00:01\n",
      "   ------------------------------- -------- 30.7/38.5 MB 18.2 MB/s eta 0:00:01\n",
      "   -------------------------------- ------- 31.4/38.5 MB 17.7 MB/s eta 0:00:01\n",
      "   --------------------------------- ------ 32.3/38.5 MB 17.7 MB/s eta 0:00:01\n",
      "   ---------------------------------- ----- 33.0/38.5 MB 18.2 MB/s eta 0:00:01\n",
      "   ----------------------------------- ---- 33.9/38.5 MB 17.7 MB/s eta 0:00:01\n",
      "   ----------------------------------- ---- 34.6/38.5 MB 17.7 MB/s eta 0:00:01\n",
      "   ------------------------------------ --- 35.6/38.5 MB 17.7 MB/s eta 0:00:01\n",
      "   ------------------------------------- -- 36.4/38.5 MB 17.7 MB/s eta 0:00:01\n",
      "   -------------------------------------- - 37.2/38.5 MB 17.2 MB/s eta 0:00:01\n",
      "   ---------------------------------------  37.9/38.5 MB 17.2 MB/s eta 0:00:01\n",
      "   ---------------------------------------  38.5/38.5 MB 17.7 MB/s eta 0:00:01\n",
      "   ---------------------------------------  38.5/38.5 MB 17.7 MB/s eta 0:00:01\n",
      "   ---------------------------------------  38.5/38.5 MB 17.7 MB/s eta 0:00:01\n",
      "   ---------------------------------------- 38.5/38.5 MB 13.9 MB/s eta 0:00:00\n",
      "Downloading supervision-0.20.0-py3-none-any.whl (110 kB)\n",
      "   ---------------------------------------- 0.0/111.0 kB ? eta -:--:--\n",
      "   ---------------------------------------- 111.0/111.0 kB ? eta 0:00:00\n",
      "Installing collected packages: opencv-python-headless, supervision\n",
      "Successfully installed opencv-python-headless-4.9.0.80 supervision-0.20.0\n"
     ]
    },
    {
     "name": "stderr",
     "output_type": "stream",
     "text": [
      "DEPRECATION: Loading egg at c:\\users\\wen\\anaconda3\\lib\\site-packages\\huggingface_hub-0.23.0-py3.8.egg is deprecated. pip 23.3 will enforce this behaviour change. A possible replacement is to use pip for package installation..\n"
     ]
    }
   ],
   "source": [
    "!pip install supervision[assets]"
   ]
  },
  {
   "cell_type": "markdown",
   "metadata": {},
   "source": [
    "# Download a video\n",
    "\n",
    "https://supervision.roboflow.com/assets/"
   ]
  },
  {
   "cell_type": "code",
   "execution_count": 2,
   "metadata": {},
   "outputs": [
    {
     "name": "stdout",
     "output_type": "stream",
     "text": [
      "Downloading vehicles.mp4 assets \n",
      "\n"
     ]
    },
    {
     "data": {
      "application/vnd.jupyter.widget-view+json": {
       "model_id": "4b46290dc8e64d09905f4743f9ae6ccf",
       "version_major": 2,
       "version_minor": 0
      },
      "text/plain": [
       "  0%|          | 0/35345757 [00:00<?, ?it/s]"
      ]
     },
     "metadata": {},
     "output_type": "display_data"
    },
    {
     "data": {
      "text/plain": [
       "'vehicles.mp4'"
      ]
     },
     "execution_count": 2,
     "metadata": {},
     "output_type": "execute_result"
    }
   ],
   "source": [
    "from supervision.assets import download_assets, VideoAssets\n",
    "\n",
    "download_assets(VideoAssets.VEHICLES)\n",
    "\"vehicles.mp4\""
   ]
  },
  {
   "cell_type": "markdown",
   "metadata": {},
   "source": [
    "# How to estimate speed "
   ]
  },
  {
   "cell_type": "markdown",
   "metadata": {},
   "source": [
    "https://blog.roboflow.com/estimate-speed-computer-vision/"
   ]
  }
 ],
 "metadata": {
  "kernelspec": {
   "display_name": "base",
   "language": "python",
   "name": "python3"
  },
  "language_info": {
   "codemirror_mode": {
    "name": "ipython",
    "version": 3
   },
   "file_extension": ".py",
   "mimetype": "text/x-python",
   "name": "python",
   "nbconvert_exporter": "python",
   "pygments_lexer": "ipython3",
   "version": "3.11.5"
  }
 },
 "nbformat": 4,
 "nbformat_minor": 2
}
