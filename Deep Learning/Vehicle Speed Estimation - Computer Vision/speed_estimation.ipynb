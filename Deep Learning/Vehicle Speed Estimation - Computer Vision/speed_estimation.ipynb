{
 "cells": [
  {
   "cell_type": "code",
   "execution_count": 1,
   "metadata": {},
   "outputs": [
    {
     "name": "stdout",
     "output_type": "stream",
     "text": [
      "Collecting supervision[assets]\n",
      "  Obtaining dependency information for supervision[assets] from https://files.pythonhosted.org/packages/50/1a/971a415d67011854c2c59716c49b3de151d54b422c6dd0a6489e0152b42e/supervision-0.20.0-py3-none-any.whl.metadata\n",
      "  Downloading supervision-0.20.0-py3-none-any.whl.metadata (13 kB)\n",
      "Requirement already satisfied: defusedxml<0.8.0,>=0.7.1 in c:\\users\\wen\\anaconda3\\lib\\site-packages (from supervision[assets]) (0.7.1)\n",
      "Requirement already satisfied: matplotlib>=3.6.0 in c:\\users\\wen\\anaconda3\\lib\\site-packages (from supervision[assets]) (3.7.2)\n",
      "Requirement already satisfied: numpy>=1.21.2 in c:\\users\\wen\\anaconda3\\lib\\site-packages (from supervision[assets]) (1.24.3)\n",
      "Collecting opencv-python-headless>=4.5.5.64 (from supervision[assets])\n",
      "  Obtaining dependency information for opencv-python-headless>=4.5.5.64 from https://files.pythonhosted.org/packages/20/44/458a0a135866f5e08266566b32ad9a182a7a059a894effe6c41a9c841ff1/opencv_python_headless-4.9.0.80-cp37-abi3-win_amd64.whl.metadata\n",
      "  Downloading opencv_python_headless-4.9.0.80-cp37-abi3-win_amd64.whl.metadata (20 kB)\n",
      "Requirement already satisfied: pillow>=9.4 in c:\\users\\wen\\anaconda3\\lib\\site-packages (from supervision[assets]) (9.4.0)\n",
      "Requirement already satisfied: pyyaml>=5.3 in c:\\users\\wen\\anaconda3\\lib\\site-packages (from supervision[assets]) (6.0.1)\n",
      "Requirement already satisfied: requests<=2.31.0,>=2.26.0 in c:\\users\\wen\\anaconda3\\lib\\site-packages (from supervision[assets]) (2.31.0)\n",
      "Requirement already satisfied: scipy<2.0.0,>=1.10.0 in c:\\users\\wen\\anaconda3\\lib\\site-packages (from supervision[assets]) (1.11.1)\n",
      "Requirement already satisfied: tqdm<=4.66.2,>=4.62.3 in c:\\users\\wen\\anaconda3\\lib\\site-packages (from supervision[assets]) (4.65.0)\n",
      "Requirement already satisfied: contourpy>=1.0.1 in c:\\users\\wen\\anaconda3\\lib\\site-packages (from matplotlib>=3.6.0->supervision[assets]) (1.0.5)\n",
      "Requirement already satisfied: cycler>=0.10 in c:\\users\\wen\\anaconda3\\lib\\site-packages (from matplotlib>=3.6.0->supervision[assets]) (0.11.0)\n",
      "Requirement already satisfied: fonttools>=4.22.0 in c:\\users\\wen\\anaconda3\\lib\\site-packages (from matplotlib>=3.6.0->supervision[assets]) (4.25.0)\n",
      "Requirement already satisfied: kiwisolver>=1.0.1 in c:\\users\\wen\\anaconda3\\lib\\site-packages (from matplotlib>=3.6.0->supervision[assets]) (1.4.4)\n",
      "Requirement already satisfied: packaging>=20.0 in c:\\users\\wen\\anaconda3\\lib\\site-packages (from matplotlib>=3.6.0->supervision[assets]) (23.1)\n",
      "Requirement already satisfied: pyparsing<3.1,>=2.3.1 in c:\\users\\wen\\anaconda3\\lib\\site-packages (from matplotlib>=3.6.0->supervision[assets]) (2.4.2)\n",
      "Requirement already satisfied: python-dateutil>=2.7 in c:\\users\\wen\\anaconda3\\lib\\site-packages (from matplotlib>=3.6.0->supervision[assets]) (2.8.2)\n",
      "Requirement already satisfied: charset-normalizer<4,>=2 in c:\\users\\wen\\anaconda3\\lib\\site-packages (from requests<=2.31.0,>=2.26.0->supervision[assets]) (2.0.4)\n",
      "Requirement already satisfied: idna<4,>=2.5 in c:\\users\\wen\\anaconda3\\lib\\site-packages (from requests<=2.31.0,>=2.26.0->supervision[assets]) (3.4)\n",
      "Requirement already satisfied: urllib3<3,>=1.21.1 in c:\\users\\wen\\anaconda3\\lib\\site-packages (from requests<=2.31.0,>=2.26.0->supervision[assets]) (1.26.16)\n",
      "Requirement already satisfied: certifi>=2017.4.17 in c:\\users\\wen\\anaconda3\\lib\\site-packages (from requests<=2.31.0,>=2.26.0->supervision[assets]) (2024.2.2)\n",
      "Requirement already satisfied: colorama in c:\\users\\wen\\anaconda3\\lib\\site-packages (from tqdm<=4.66.2,>=4.62.3->supervision[assets]) (0.4.6)\n",
      "Requirement already satisfied: six>=1.5 in c:\\users\\wen\\anaconda3\\lib\\site-packages (from python-dateutil>=2.7->matplotlib>=3.6.0->supervision[assets]) (1.16.0)\n",
      "Downloading opencv_python_headless-4.9.0.80-cp37-abi3-win_amd64.whl (38.5 MB)\n",
      "   ---------------------------------------- 0.0/38.5 MB ? eta -:--:--\n",
      "   ---------------------------------------- 0.1/38.5 MB 2.0 MB/s eta 0:00:20\n",
      "    --------------------------------------- 0.5/38.5 MB 5.3 MB/s eta 0:00:08\n",
      "   - -------------------------------------- 1.2/38.5 MB 8.5 MB/s eta 0:00:05\n",
      "   - -------------------------------------- 1.6/38.5 MB 8.6 MB/s eta 0:00:05\n",
      "   -- ------------------------------------- 2.4/38.5 MB 10.3 MB/s eta 0:00:04\n",
      "   --- ------------------------------------ 3.5/38.5 MB 12.4 MB/s eta 0:00:03\n",
      "   ---- ----------------------------------- 4.6/38.5 MB 14.0 MB/s eta 0:00:03\n",
      "   ----- ---------------------------------- 5.7/38.5 MB 15.2 MB/s eta 0:00:03\n",
      "   ------ --------------------------------- 6.6/38.5 MB 15.7 MB/s eta 0:00:03\n",
      "   -------- ------------------------------- 7.8/38.5 MB 16.5 MB/s eta 0:00:02\n",
      "   --------- ------------------------------ 8.9/38.5 MB 17.2 MB/s eta 0:00:02\n",
      "   ---------- ----------------------------- 10.0/38.5 MB 17.8 MB/s eta 0:00:02\n",
      "   ----------- ---------------------------- 10.9/38.5 MB 20.5 MB/s eta 0:00:02\n",
      "   ------------ --------------------------- 11.9/38.5 MB 22.6 MB/s eta 0:00:02\n",
      "   ------------- -------------------------- 12.9/38.5 MB 22.5 MB/s eta 0:00:02\n",
      "   -------------- ------------------------- 13.9/38.5 MB 22.6 MB/s eta 0:00:02\n",
      "   --------------- ------------------------ 14.6/38.5 MB 21.1 MB/s eta 0:00:02\n",
      "   ---------------- ----------------------- 15.5/38.5 MB 21.1 MB/s eta 0:00:02\n",
      "   ----------------- ---------------------- 16.4/38.5 MB 20.5 MB/s eta 0:00:02\n",
      "   ----------------- ---------------------- 17.1/38.5 MB 20.5 MB/s eta 0:00:02\n",
      "   ------------------ --------------------- 18.0/38.5 MB 19.8 MB/s eta 0:00:02\n",
      "   ------------------- -------------------- 18.9/38.5 MB 18.7 MB/s eta 0:00:02\n",
      "   -------------------- ------------------- 19.8/38.5 MB 19.2 MB/s eta 0:00:01\n",
      "   --------------------- ------------------ 20.4/38.5 MB 18.7 MB/s eta 0:00:01\n",
      "   ---------------------- ----------------- 21.5/38.5 MB 18.2 MB/s eta 0:00:01\n",
      "   ----------------------- ---------------- 22.3/38.5 MB 18.2 MB/s eta 0:00:01\n",
      "   ----------------------- ---------------- 23.0/38.5 MB 17.7 MB/s eta 0:00:01\n",
      "   ------------------------ --------------- 23.9/38.5 MB 17.7 MB/s eta 0:00:01\n",
      "   ------------------------- -------------- 24.8/38.5 MB 17.7 MB/s eta 0:00:01\n",
      "   -------------------------- ------------- 25.5/38.5 MB 17.7 MB/s eta 0:00:01\n",
      "   --------------------------- ------------ 26.4/38.5 MB 17.7 MB/s eta 0:00:01\n",
      "   ---------------------------- ----------- 27.3/38.5 MB 18.2 MB/s eta 0:00:01\n",
      "   ----------------------------- ---------- 28.1/38.5 MB 18.2 MB/s eta 0:00:01\n",
      "   ------------------------------ --------- 29.0/38.5 MB 17.7 MB/s eta 0:00:01\n",
      "   ------------------------------- -------- 29.9/38.5 MB 18.2 MB/s eta 0:00:01\n",
      "   ------------------------------- -------- 30.7/38.5 MB 18.2 MB/s eta 0:00:01\n",
      "   -------------------------------- ------- 31.4/38.5 MB 17.7 MB/s eta 0:00:01\n",
      "   --------------------------------- ------ 32.3/38.5 MB 17.7 MB/s eta 0:00:01\n",
      "   ---------------------------------- ----- 33.0/38.5 MB 18.2 MB/s eta 0:00:01\n",
      "   ----------------------------------- ---- 33.9/38.5 MB 17.7 MB/s eta 0:00:01\n",
      "   ----------------------------------- ---- 34.6/38.5 MB 17.7 MB/s eta 0:00:01\n",
      "   ------------------------------------ --- 35.6/38.5 MB 17.7 MB/s eta 0:00:01\n",
      "   ------------------------------------- -- 36.4/38.5 MB 17.7 MB/s eta 0:00:01\n",
      "   -------------------------------------- - 37.2/38.5 MB 17.2 MB/s eta 0:00:01\n",
      "   ---------------------------------------  37.9/38.5 MB 17.2 MB/s eta 0:00:01\n",
      "   ---------------------------------------  38.5/38.5 MB 17.7 MB/s eta 0:00:01\n",
      "   ---------------------------------------  38.5/38.5 MB 17.7 MB/s eta 0:00:01\n",
      "   ---------------------------------------  38.5/38.5 MB 17.7 MB/s eta 0:00:01\n",
      "   ---------------------------------------- 38.5/38.5 MB 13.9 MB/s eta 0:00:00\n",
      "Downloading supervision-0.20.0-py3-none-any.whl (110 kB)\n",
      "   ---------------------------------------- 0.0/111.0 kB ? eta -:--:--\n",
      "   ---------------------------------------- 111.0/111.0 kB ? eta 0:00:00\n",
      "Installing collected packages: opencv-python-headless, supervision\n",
      "Successfully installed opencv-python-headless-4.9.0.80 supervision-0.20.0\n"
     ]
    },
    {
     "name": "stderr",
     "output_type": "stream",
     "text": [
      "DEPRECATION: Loading egg at c:\\users\\wen\\anaconda3\\lib\\site-packages\\huggingface_hub-0.23.0-py3.8.egg is deprecated. pip 23.3 will enforce this behaviour change. A possible replacement is to use pip for package installation..\n"
     ]
    }
   ],
   "source": [
    "!pip install supervision[assets]"
   ]
  },
  {
   "cell_type": "code",
   "execution_count": 17,
   "metadata": {},
   "outputs": [
    {
     "ename": "ModuleNotFoundError",
     "evalue": "No module named 'bytetrack'",
     "output_type": "error",
     "traceback": [
      "\u001b[1;31m---------------------------------------------------------------------------\u001b[0m",
      "\u001b[1;31mModuleNotFoundError\u001b[0m                       Traceback (most recent call last)",
      "Cell \u001b[1;32mIn[17], line 4\u001b[0m\n\u001b[0;32m      2\u001b[0m \u001b[38;5;28;01mfrom\u001b[39;00m \u001b[38;5;21;01msupervision\u001b[39;00m\u001b[38;5;21;01m.\u001b[39;00m\u001b[38;5;21;01massets\u001b[39;00m \u001b[38;5;28;01mimport\u001b[39;00m download_assets, VideoAssets\n\u001b[0;32m      3\u001b[0m \u001b[38;5;28;01mimport\u001b[39;00m \u001b[38;5;21;01mcv2\u001b[39;00m\n\u001b[1;32m----> 4\u001b[0m \u001b[38;5;28;01mfrom\u001b[39;00m \u001b[38;5;21;01mbytetrack\u001b[39;00m \u001b[38;5;28;01mimport\u001b[39;00m BYTETracker\n",
      "\u001b[1;31mModuleNotFoundError\u001b[0m: No module named 'bytetrack'"
     ]
    }
   ],
   "source": [
    "import torch\n",
    "from supervision.assets import download_assets, VideoAssets\n",
    "import cv2\n",
    "from bytetrack import BYTETracker\n"
   ]
  },
  {
   "cell_type": "code",
   "execution_count": 4,
   "metadata": {},
   "outputs": [],
   "source": [
    "import sys\n",
    "sys.path.append('/path/to/ByteTrack')\n"
   ]
  },
  {
   "cell_type": "code",
   "execution_count": 7,
   "metadata": {},
   "outputs": [
    {
     "ename": "ModuleNotFoundError",
     "evalue": "No module named 'bytetrack'",
     "output_type": "error",
     "traceback": [
      "\u001b[1;31m---------------------------------------------------------------------------\u001b[0m",
      "\u001b[1;31mModuleNotFoundError\u001b[0m                       Traceback (most recent call last)",
      "Cell \u001b[1;32mIn[7], line 1\u001b[0m\n\u001b[1;32m----> 1\u001b[0m \u001b[38;5;28;01mimport\u001b[39;00m \u001b[38;5;21;01mbytetrack\u001b[39;00m\n\u001b[0;32m      2\u001b[0m \u001b[38;5;28mprint\u001b[39m(\u001b[38;5;124m\"\u001b[39m\u001b[38;5;124mByteTrack is successfully imported!\u001b[39m\u001b[38;5;124m\"\u001b[39m)\n",
      "\u001b[1;31mModuleNotFoundError\u001b[0m: No module named 'bytetrack'"
     ]
    }
   ],
   "source": [
    "import bytetrack\n",
    "print(\"ByteTrack is successfully imported!\")\n"
   ]
  },
  {
   "cell_type": "markdown",
   "metadata": {},
   "source": [
    "# Download a video\n",
    "\n",
    "https://supervision.roboflow.com/assets/"
   ]
  },
  {
   "cell_type": "code",
   "execution_count": 2,
   "metadata": {},
   "outputs": [
    {
     "name": "stdout",
     "output_type": "stream",
     "text": [
      "Downloading vehicles.mp4 assets \n",
      "\n"
     ]
    },
    {
     "data": {
      "application/vnd.jupyter.widget-view+json": {
       "model_id": "4b46290dc8e64d09905f4743f9ae6ccf",
       "version_major": 2,
       "version_minor": 0
      },
      "text/plain": [
       "  0%|          | 0/35345757 [00:00<?, ?it/s]"
      ]
     },
     "metadata": {},
     "output_type": "display_data"
    },
    {
     "data": {
      "text/plain": [
       "'vehicles.mp4'"
      ]
     },
     "execution_count": 2,
     "metadata": {},
     "output_type": "execute_result"
    }
   ],
   "source": [
    "download_assets(VideoAssets.VEHICLES)\n",
    "\"vehicles.mp4\""
   ]
  },
  {
   "cell_type": "code",
   "execution_count": 1,
   "metadata": {},
   "outputs": [
    {
     "name": "stderr",
     "output_type": "stream",
     "text": [
      "Using cache found in C:\\Users\\Wen/.cache\\torch\\hub\\ultralytics_yolov5_master\n",
      "c:\\Users\\Wen\\AppData\\Local\\Programs\\Python\\Python38\\lib\\site-packages\\transformers\\utils\\generic.py:441: UserWarning: torch.utils._pytree._register_pytree_node is deprecated. Please use torch.utils._pytree.register_pytree_node instead.\n",
      "  _torch_pytree._register_pytree_node(\n",
      "YOLOv5  2024-5-6 Python-3.8.0 torch-2.3.0+cpu CPU\n",
      "\n",
      "Downloading https://github.com/ultralytics/yolov5/releases/download/v7.0/yolov5s.pt to yolov5s.pt...\n",
      "100%|██████████| 14.1M/14.1M [00:00<00:00, 15.0MB/s]\n",
      "\n",
      "Fusing layers... \n",
      "YOLOv5s summary: 213 layers, 7225885 parameters, 0 gradients, 16.4 GFLOPs\n",
      "Adding AutoShape... \n"
     ]
    }
   ],
   "source": [
    "model = torch.hub.load('ultralytics/yolov5', 'yolov5s', pretrained=True)"
   ]
  },
  {
   "cell_type": "code",
   "execution_count": 2,
   "metadata": {},
   "outputs": [],
   "source": [
    "cap = cv2.VideoCapture('vehicles.mp4')\n",
    "\n",
    "while cap.isOpened():\n",
    "    ret, frame = cap.read()\n",
    "    if not ret:\n",
    "        break\n",
    "    \n",
    "    results = model(frame)\n",
    "\n",
    "    cv_frame = results.render()[0]\n",
    "\n",
    "    cv2.imshow('YOLOv5 Detection', cv_frame)\n",
    "    if cv2.waitKey(1) & 0xFF == ord('q'):  # Press 'q' to exit\n",
    "        break\n",
    "\n",
    "cap.release()\n",
    "cv2.destroyAllWindows()\n",
    "\n"
   ]
  },
  {
   "cell_type": "markdown",
   "metadata": {},
   "source": [
    "Integrating ByteTrack for multi-object tracking using the detections from Yolo"
   ]
  },
  {
   "cell_type": "code",
   "execution_count": 8,
   "metadata": {},
   "outputs": [
    {
     "ename": "ModuleNotFoundError",
     "evalue": "No module named 'bytetrack'",
     "output_type": "error",
     "traceback": [
      "\u001b[1;31m---------------------------------------------------------------------------\u001b[0m",
      "\u001b[1;31mModuleNotFoundError\u001b[0m                       Traceback (most recent call last)",
      "Cell \u001b[1;32mIn[8], line 7\u001b[0m\n\u001b[0;32m      5\u001b[0m \u001b[38;5;66;03m# Assuming ByteTrack and YOLO are correctly installed and configured\u001b[39;00m\n\u001b[0;32m      6\u001b[0m sys\u001b[38;5;241m.\u001b[39mpath\u001b[38;5;241m.\u001b[39mappend(\u001b[38;5;124m'\u001b[39m\u001b[38;5;124m/path/to/ByteTrack\u001b[39m\u001b[38;5;124m'\u001b[39m)\n\u001b[1;32m----> 7\u001b[0m \u001b[38;5;28;01mfrom\u001b[39;00m \u001b[38;5;21;01mbytetrack\u001b[39;00m \u001b[38;5;28;01mimport\u001b[39;00m BYTETracker\n\u001b[0;32m      9\u001b[0m \u001b[38;5;66;03m# Load YOLO model\u001b[39;00m\n\u001b[0;32m     10\u001b[0m model \u001b[38;5;241m=\u001b[39m torch\u001b[38;5;241m.\u001b[39mhub\u001b[38;5;241m.\u001b[39mload(\u001b[38;5;124m'\u001b[39m\u001b[38;5;124multralytics/yolov5\u001b[39m\u001b[38;5;124m'\u001b[39m, \u001b[38;5;124m'\u001b[39m\u001b[38;5;124myolov5s\u001b[39m\u001b[38;5;124m'\u001b[39m, pretrained\u001b[38;5;241m=\u001b[39m\u001b[38;5;28;01mTrue\u001b[39;00m)\n",
      "\u001b[1;31mModuleNotFoundError\u001b[0m: No module named 'bytetrack'"
     ]
    }
   ],
   "source": [
    "import sys\n",
    "import cv2\n",
    "import torch\n",
    "\n",
    "# Assuming ByteTrack and YOLO are correctly installed and configured\n",
    "sys.path.append('/path/to/ByteTrack')\n",
    "from bytetrack import BYTETracker\n",
    "\n",
    "# Load YOLO model\n",
    "model = torch.hub.load('ultralytics/yolov5', 'yolov5s', pretrained=True)\n",
    "\n",
    "# Initialize ByteTrack\n",
    "tracker = BYTETracker()\n",
    "\n",
    "# Open the video\n",
    "cap = cv2.VideoCapture('vehicles.mp4')\n",
    "\n",
    "while cap.isOpened():\n",
    "    ret, frame = cap.read()\n",
    "    if not ret:\n",
    "        break\n",
    "\n",
    "    # Detect objects using YOLO\n",
    "    results = model(frame)\n",
    "    detections = results.xyxy[0]  # detections in xyxy format\n",
    "\n",
    "    # Format detections for ByteTrack (x1, y1, x2, y2, score, class)\n",
    "    online_targets = tracker.update(detections[:, :4], detections[:, 4], detections[:, 5])\n",
    "\n",
    "    # Draw tracked objects\n",
    "    for t in online_targets:\n",
    "        bbox = t.tlwh\n",
    "        cv2.rectangle(frame, (int(bbox[0]), int(bbox[1])), (int(bbox[0] + bbox[2]), int(bbox[1] + bbox[3])), (0, 255, 0), 2)\n",
    "        cv2.putText(frame, f'ID: {t.track_id}', (int(bbox[0]), int(bbox[1] - 10)), cv2.FONT_HERSHEY_SIMPLEX, 0.5, (0, 255, 0), 2)\n",
    "\n",
    "    cv2.imshow('Frame', frame)\n",
    "    if cv2.waitKey(1) & 0xFF == ord('q'):\n",
    "        break\n",
    "\n",
    "cap.release()\n",
    "cv2.destroyAllWindows()\n"
   ]
  }
 ],
 "metadata": {
  "kernelspec": {
   "display_name": "base",
   "language": "python",
   "name": "python3"
  },
  "language_info": {
   "codemirror_mode": {
    "name": "ipython",
    "version": 3
   },
   "file_extension": ".py",
   "mimetype": "text/x-python",
   "name": "python",
   "nbconvert_exporter": "python",
   "pygments_lexer": "ipython3",
   "version": "3.11.5"
  }
 },
 "nbformat": 4,
 "nbformat_minor": 2
}
